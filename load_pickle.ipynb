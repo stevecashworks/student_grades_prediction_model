{
 "cells": [
  {
   "cell_type": "code",
   "execution_count": 1,
   "id": "607bb891",
   "metadata": {},
   "outputs": [
    {
     "name": "stdout",
     "output_type": "stream",
     "text": [
      "True\n"
     ]
    }
   ],
   "source": [
    "import pickle\n",
    "import os\n",
    "print(os.path.exists(\"grade.pickle\"))\n"
   ]
  },
  {
   "cell_type": "code",
   "execution_count": 2,
   "id": "c295776b",
   "metadata": {},
   "outputs": [
    {
     "name": "stdout",
     "output_type": "stream",
     "text": [
      "LinearRegression()\n"
     ]
    }
   ],
   "source": [
    "with open(\"grade.pickle\",\"rb\") as file:\n",
    "    model=pickle.load(file)\n",
    "    print(model)\n"
   ]
  },
  {
   "cell_type": "code",
   "execution_count": 3,
   "id": "74a4400a",
   "metadata": {},
   "outputs": [],
   "source": [
    "with open(\"clean_data.pickle\",\"rb\") as file:\n",
    "    clean_data=pickle.load(file)\n",
    "    features_train,features_test,target_train,target_test=clean_data"
   ]
  },
  {
   "cell_type": "code",
   "execution_count": 5,
   "id": "5ea58d4e",
   "metadata": {},
   "outputs": [
    {
     "name": "stdout",
     "output_type": "stream",
     "text": [
      "guess:  12.822872627388072  data:  [10  1  1 11 13]  actual:  13\n",
      "guess:  11.215115269078236  data:  [16  1  1 12 11]  actual:  12\n",
      "guess:  12.972935474501755  data:  [ 0  1  0 13 13]  actual:  12\n",
      "guess:  12.588697599738568  data:  [ 0  4  0 14 13]  actual:  14\n",
      "guess:  -1.0298167162416787  data:  [0 1 1 7 0]  actual:  0\n",
      "guess:  12.968469956039927  data:  [12  3  1 14 13]  actual:  13\n",
      "guess:  11.574004113575866  data:  [ 2  3  0 12 12]  actual:  11\n",
      "guess:  4.986627565321947  data:  [6 2 0 5 6]  actual:  6\n",
      "guess:  10.241470021774788  data:  [14  2  0 12 10]  actual:  11\n",
      "guess:  10.675906421637587  data:  [ 0  2  0 12 11]  actual:  12\n",
      "guess:  9.290814223199133  data:  [ 4  2  0  8 10]  actual:  10\n",
      "guess:  11.646141173175513  data:  [ 2  1  0 10 12]  actual:  12\n",
      "guess:  10.660878143075717  data:  [ 3  2  1 13 11]  actual:  11\n",
      "guess:  11.961581013632474  data:  [40  3  1 13 11]  actual:  11\n",
      "guess:  12.226398259475419  data:  [14  2  0 12 12]  actual:  12\n",
      "guess:  12.713392765975591  data:  [ 8  1  0 16 12]  actual:  13\n",
      "guess:  7.980509498710443  data:  [14  2  0 10  8]  actual:  9\n",
      "guess:  12.80145227893064  data:  [ 6  1  1 12 13]  actual:  14\n",
      "guess:  15.139529570654064  data:  [ 2  2  0 15 15]  actual:  16\n",
      "guess:  5.422096341824951  data:  [10  2  0  7  6]  actual:  6\n",
      "guess:  17.008671032985227  data:  [ 0  3  0 16 17]  actual:  17\n",
      "guess:  14.819847569520528  data:  [ 0  1  0 12 15]  actual:  15\n",
      "guess:  8.516307850385573  data:  [30  1  0  8  8]  actual:  8\n",
      "guess:  -0.9605271373939488  data:  [ 0  3  2 12  0]  actual:  0\n",
      "guess:  16.131993689504377  data:  [ 2  2  0 15 16]  actual:  16\n",
      "guess:  18.41518357988111  data:  [ 0  3  0 19 18]  actual:  19\n",
      "guess:  12.001891704108873  data:  [ 4  1  0 12 12]  actual:  13\n",
      "guess:  7.826812798045989  data:  [0 3 0 7 9]  actual:  8\n",
      "guess:  12.878569047589718  data:  [ 2  2  0 13 13]  actual:  13\n",
      "guess:  11.980471355651439  data:  [ 0  1  0 13 12]  actual:  12\n",
      "guess:  10.123841850910157  data:  [ 0  2  0  8 11]  actual:  11\n",
      "guess:  14.957863712202384  data:  [ 0  1  0 13 15]  actual:  15\n",
      "guess:  11.290390642242153  data:  [ 0  1  0  8 12]  actual:  12\n",
      "guess:  11.48773705867643  data:  [16  1  0 12 11]  actual:  11\n",
      "guess:  8.298350104348819  data:  [4 2 0 8 9]  actual:  10\n",
      "guess:  19.392999517389036  data:  [ 4  4  0 19 19]  actual:  20\n",
      "guess:  -0.8952110693253421  data:  [0 1 0 6 0]  actual:  0\n",
      "guess:  8.51987508558532  data:  [ 7  3  0 10  9]  actual:  9\n",
      "guess:  -0.5172311710795949  data:  [ 0  2  0 10  0]  actual:  0\n",
      "guess:  11.671781036253421  data:  [ 0  2  1 14 12]  actual:  12\n"
     ]
    }
   ],
   "source": [
    "predictions=model.predict(features_test)\n",
    "\n",
    "for i in range(len(predictions)):\n",
    "    print(\"guess: \", predictions[i], \" data: \", features_test[i], \" actual: \", target_test[i])"
   ]
  },
  {
   "cell_type": "code",
   "execution_count": null,
   "id": "fcf02d37",
   "metadata": {},
   "outputs": [],
   "source": []
  }
 ],
 "metadata": {
  "kernelspec": {
   "display_name": "ml",
   "language": "python",
   "name": "ml"
  },
  "language_info": {
   "codemirror_mode": {
    "name": "ipython",
    "version": 3
   },
   "file_extension": ".py",
   "mimetype": "text/x-python",
   "name": "python",
   "nbconvert_exporter": "python",
   "pygments_lexer": "ipython3",
   "version": "3.6.13"
  }
 },
 "nbformat": 4,
 "nbformat_minor": 5
}
