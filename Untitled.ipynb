{
 "cells": [
  {
   "cell_type": "code",
   "execution_count": 6,
   "id": "182f1ccf",
   "metadata": {},
   "outputs": [],
   "source": [
    "import pandas as pd\n",
    "import numpy as np\n",
    "import sklearn \n",
    "from sklearn import linear_model\n",
    "import pickle"
   ]
  },
  {
   "cell_type": "code",
   "execution_count": 7,
   "id": "4b4f4d0c",
   "metadata": {},
   "outputs": [
    {
     "data": {
      "text/html": [
       "<div>\n",
       "<style scoped>\n",
       "    .dataframe tbody tr th:only-of-type {\n",
       "        vertical-align: middle;\n",
       "    }\n",
       "\n",
       "    .dataframe tbody tr th {\n",
       "        vertical-align: top;\n",
       "    }\n",
       "\n",
       "    .dataframe thead th {\n",
       "        text-align: right;\n",
       "    }\n",
       "</style>\n",
       "<table border=\"1\" class=\"dataframe\">\n",
       "  <thead>\n",
       "    <tr style=\"text-align: right;\">\n",
       "      <th></th>\n",
       "      <th>absences</th>\n",
       "      <th>studytime</th>\n",
       "      <th>failures</th>\n",
       "      <th>G1</th>\n",
       "      <th>G2</th>\n",
       "      <th>G3</th>\n",
       "    </tr>\n",
       "  </thead>\n",
       "  <tbody>\n",
       "    <tr>\n",
       "      <th>0</th>\n",
       "      <td>6</td>\n",
       "      <td>2</td>\n",
       "      <td>0</td>\n",
       "      <td>5</td>\n",
       "      <td>6</td>\n",
       "      <td>6</td>\n",
       "    </tr>\n",
       "    <tr>\n",
       "      <th>1</th>\n",
       "      <td>4</td>\n",
       "      <td>2</td>\n",
       "      <td>0</td>\n",
       "      <td>5</td>\n",
       "      <td>5</td>\n",
       "      <td>6</td>\n",
       "    </tr>\n",
       "    <tr>\n",
       "      <th>2</th>\n",
       "      <td>10</td>\n",
       "      <td>2</td>\n",
       "      <td>3</td>\n",
       "      <td>7</td>\n",
       "      <td>8</td>\n",
       "      <td>10</td>\n",
       "    </tr>\n",
       "    <tr>\n",
       "      <th>3</th>\n",
       "      <td>2</td>\n",
       "      <td>3</td>\n",
       "      <td>0</td>\n",
       "      <td>15</td>\n",
       "      <td>14</td>\n",
       "      <td>15</td>\n",
       "    </tr>\n",
       "    <tr>\n",
       "      <th>4</th>\n",
       "      <td>4</td>\n",
       "      <td>2</td>\n",
       "      <td>0</td>\n",
       "      <td>6</td>\n",
       "      <td>10</td>\n",
       "      <td>10</td>\n",
       "    </tr>\n",
       "  </tbody>\n",
       "</table>\n",
       "</div>"
      ],
      "text/plain": [
       "   absences  studytime  failures  G1  G2  G3\n",
       "0         6          2         0   5   6   6\n",
       "1         4          2         0   5   5   6\n",
       "2        10          2         3   7   8  10\n",
       "3         2          3         0  15  14  15\n",
       "4         4          2         0   6  10  10"
      ]
     },
     "execution_count": 7,
     "metadata": {},
     "output_type": "execute_result"
    }
   ],
   "source": [
    "dataframe= pd.read_csv(\"student-mat.csv\", sep=\";\")\n",
    "trimmed_data= dataframe[[\"absences\", \"studytime\",\"failures\", \"G1\",\"G2\",\"G3\"]]\n",
    "trimmed_data.head()"
   ]
  },
  {
   "cell_type": "code",
   "execution_count": 8,
   "id": "514ec2b5",
   "metadata": {},
   "outputs": [],
   "source": [
    "label=\"G3\"\n",
    "attributes= np.array(trimmed_data.drop([label],1))\n",
    "label = np.array(trimmed_data[label])\n",
    "accuracy=0\n",
    "features_train = features_test=target_test=target_train=model=None\n",
    "\n",
    "def train_model():\n",
    "    global accuracy,features_train,features_test,target_train,target_test, model\n",
    "    features_train,features_test,target_train, target_test= sklearn.model_selection.train_test_split(attributes,label,test_size=0.1)\n",
    "    model=linear_model.LinearRegression()\n",
    "    model.fit(features_train, target_train)\n",
    "    accuracy= model.score(features_test,target_test)"
   ]
  },
  {
   "cell_type": "code",
   "execution_count": 9,
   "id": "60743da8",
   "metadata": {},
   "outputs": [
    {
     "name": "stdout",
     "output_type": "stream",
     "text": [
      "0.9741802441505537\n"
     ]
    }
   ],
   "source": [
    "while accuracy<0.97:\n",
    "    train_model()\n",
    "print(accuracy)\n",
    "with open(\"grade.pickle\",\"wb\") as f:\n",
    "    pickle.dump(model, f)\n",
    "with open(\"clean_data.pickle\", \"wb\") as t:\n",
    "    pickle.dump((features_train,features_test,target_train,target_test),t)"
   ]
  },
  {
   "cell_type": "code",
   "execution_count": 5,
   "id": "db5e31b2",
   "metadata": {},
   "outputs": [
    {
     "name": "stdout",
     "output_type": "stream",
     "text": [
      "predicted:  12 Actual:  13\n",
      "predicted:  16 Actual:  16\n",
      "predicted:  13 Actual:  13\n",
      "predicted:  9 Actual:  10\n",
      "predicted:  16 Actual:  16\n",
      "predicted:  10 Actual:  10\n",
      "predicted:  -2 Actual:  0\n",
      "predicted:  11 Actual:  11\n",
      "predicted:  11 Actual:  11\n",
      "predicted:  15 Actual:  15\n",
      "predicted:  8 Actual:  9\n",
      "predicted:  9 Actual:  9\n",
      "predicted:  6 Actual:  6\n",
      "predicted:  11 Actual:  10\n",
      "predicted:  4 Actual:  5\n",
      "predicted:  18 Actual:  19\n",
      "predicted:  -1 Actual:  0\n",
      "predicted:  9 Actual:  9\n",
      "predicted:  14 Actual:  14\n",
      "predicted:  12 Actual:  12\n",
      "predicted:  9 Actual:  10\n",
      "predicted:  -1 Actual:  0\n",
      "predicted:  8 Actual:  10\n",
      "predicted:  8 Actual:  10\n",
      "predicted:  19 Actual:  18\n",
      "predicted:  16 Actual:  16\n",
      "predicted:  -1 Actual:  0\n",
      "predicted:  15 Actual:  16\n",
      "predicted:  8 Actual:  8\n",
      "predicted:  13 Actual:  14\n",
      "predicted:  -1 Actual:  0\n",
      "predicted:  12 Actual:  12\n",
      "predicted:  14 Actual:  14\n",
      "predicted:  14 Actual:  15\n",
      "predicted:  4 Actual:  6\n",
      "predicted:  14 Actual:  13\n",
      "predicted:  15 Actual:  16\n",
      "predicted:  19 Actual:  18\n",
      "predicted:  8 Actual:  8\n",
      "predicted:  12 Actual:  11\n"
     ]
    }
   ],
   "source": [
    "predictions=model.predict(features_test)\n",
    "for i in range(len(predictions)):\n",
    "    print(\"predicted: \",round(predictions[i]), \"Actual: \", target_test[i])\n"
   ]
  },
  {
   "cell_type": "code",
   "execution_count": null,
   "id": "9597154b",
   "metadata": {},
   "outputs": [],
   "source": [
    "\n",
    "\n",
    "\n",
    "\n",
    "\n",
    "\n",
    "\n",
    "\n",
    "\n",
    "\n",
    "\n",
    "\n"
   ]
  },
  {
   "cell_type": "code",
   "execution_count": null,
   "id": "6547f6de",
   "metadata": {},
   "outputs": [],
   "source": []
  }
 ],
 "metadata": {
  "kernelspec": {
   "display_name": "ml",
   "language": "python",
   "name": "ml"
  },
  "language_info": {
   "codemirror_mode": {
    "name": "ipython",
    "version": 3
   },
   "file_extension": ".py",
   "mimetype": "text/x-python",
   "name": "python",
   "nbconvert_exporter": "python",
   "pygments_lexer": "ipython3",
   "version": "3.6.13"
  }
 },
 "nbformat": 4,
 "nbformat_minor": 5
}
